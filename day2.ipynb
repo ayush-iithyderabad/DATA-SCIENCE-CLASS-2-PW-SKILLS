{
 "cells": [
  {
   "cell_type": "code",
   "execution_count": 1,
   "id": "df0ffe3b-e16e-4843-986e-5635855dfdf8",
   "metadata": {},
   "outputs": [],
   "source": [
    "# MUTABLE AND IMUTABLE OBJECT"
   ]
  },
  {
   "cell_type": "code",
   "execution_count": 2,
   "id": "c9767132-c43f-4f71-aad3-371214705a0e",
   "metadata": {},
   "outputs": [],
   "source": [
    "l=[63,87,300,270,\"iit hyderabad\",True,False,8+5j]"
   ]
  },
  {
   "cell_type": "code",
   "execution_count": 3,
   "id": "492c8c5e-bd2e-4dc4-b72f-b9124b6da31f",
   "metadata": {},
   "outputs": [
    {
     "data": {
      "text/plain": [
       "[63, 87, 300, 270, 'iit hyderabad', True, False, (8+5j)]"
      ]
     },
     "execution_count": 3,
     "metadata": {},
     "output_type": "execute_result"
    }
   ],
   "source": [
    "l"
   ]
  },
  {
   "cell_type": "code",
   "execution_count": 4,
   "id": "ec21db87-5e29-41f9-8320-f64a4c15d7e5",
   "metadata": {},
   "outputs": [
    {
     "data": {
      "text/plain": [
       "list"
      ]
     },
     "execution_count": 4,
     "metadata": {},
     "output_type": "execute_result"
    }
   ],
   "source": [
    "type(l)"
   ]
  },
  {
   "cell_type": "code",
   "execution_count": 5,
   "id": "a03d0292-ad40-48cd-a879-9806523b50ba",
   "metadata": {},
   "outputs": [],
   "source": [
    "s=\"mechanical\""
   ]
  },
  {
   "cell_type": "code",
   "execution_count": 6,
   "id": "b2f4a5ea-ed5a-44c7-a806-be8cc35e1ff7",
   "metadata": {},
   "outputs": [
    {
     "data": {
      "text/plain": [
       "'mechanical'"
      ]
     },
     "execution_count": 6,
     "metadata": {},
     "output_type": "execute_result"
    }
   ],
   "source": [
    "s"
   ]
  },
  {
   "cell_type": "code",
   "execution_count": 7,
   "id": "5af1ccaa-5e69-453c-9029-3b2252761672",
   "metadata": {},
   "outputs": [
    {
     "data": {
      "text/plain": [
       "str"
      ]
     },
     "execution_count": 7,
     "metadata": {},
     "output_type": "execute_result"
    }
   ],
   "source": [
    "type(s)"
   ]
  },
  {
   "cell_type": "code",
   "execution_count": 8,
   "id": "7c56a80e-65df-4713-b4d5-6e180c7dbf5e",
   "metadata": {},
   "outputs": [
    {
     "data": {
      "text/plain": [
       "'m'"
      ]
     },
     "execution_count": 8,
     "metadata": {},
     "output_type": "execute_result"
    }
   ],
   "source": [
    "s[0]"
   ]
  },
  {
   "cell_type": "code",
   "execution_count": 9,
   "id": "5a51ac11-cc01-4b74-ba2a-66b0ee5cdad8",
   "metadata": {},
   "outputs": [
    {
     "data": {
      "text/plain": [
       "'e'"
      ]
     },
     "execution_count": 9,
     "metadata": {},
     "output_type": "execute_result"
    }
   ],
   "source": [
    "s[1]"
   ]
  },
  {
   "cell_type": "code",
   "execution_count": 10,
   "id": "9c9caa5d-5f98-40c3-a0a6-1cd569b68a36",
   "metadata": {},
   "outputs": [
    {
     "data": {
      "text/plain": [
       "'l'"
      ]
     },
     "execution_count": 10,
     "metadata": {},
     "output_type": "execute_result"
    }
   ],
   "source": [
    "s[-1]"
   ]
  },
  {
   "cell_type": "code",
   "execution_count": 11,
   "id": "8ed229eb-3473-44ee-8436-059263f1c2d5",
   "metadata": {},
   "outputs": [
    {
     "data": {
      "text/plain": [
       "'a'"
      ]
     },
     "execution_count": 11,
     "metadata": {},
     "output_type": "execute_result"
    }
   ],
   "source": [
    "s[-2]"
   ]
  },
  {
   "cell_type": "code",
   "execution_count": 2,
   "id": "426499d8-d416-4305-a22e-638d0f6739e5",
   "metadata": {},
   "outputs": [],
   "source": [
    "## list support mutability but string does not support mutability"
   ]
  },
  {
   "cell_type": "code",
   "execution_count": 3,
   "id": "ae817a96-a034-4a52-8e39-3c908e833568",
   "metadata": {},
   "outputs": [],
   "source": [
    "## string object can not change at a perticular index but list object can be change at a perticular index "
   ]
  },
  {
   "cell_type": "code",
   "execution_count": null,
   "id": "3e57962b-1275-4e33-9225-b8ab9420e1ca",
   "metadata": {},
   "outputs": [],
   "source": []
  }
 ],
 "metadata": {
  "kernelspec": {
   "display_name": "Python 3 (ipykernel)",
   "language": "python",
   "name": "python3"
  },
  "language_info": {
   "codemirror_mode": {
    "name": "ipython",
    "version": 3
   },
   "file_extension": ".py",
   "mimetype": "text/x-python",
   "name": "python",
   "nbconvert_exporter": "python",
   "pygments_lexer": "ipython3",
   "version": "3.10.8"
  }
 },
 "nbformat": 4,
 "nbformat_minor": 5
}
